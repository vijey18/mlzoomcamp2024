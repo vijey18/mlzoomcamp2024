{
 "cells": [
  {
   "cell_type": "code",
   "execution_count": 13,
   "metadata": {},
   "outputs": [
    {
     "name": "stdout",
     "output_type": "stream",
     "text": [
      "RMSE on the test dataset: 535.08\n"
     ]
    }
   ],
   "source": [
    "import numpy as np\n",
    "import pandas as pd\n",
    "from sklearn.model_selection import train_test_split\n",
    "from sklearn.metrics import mean_squared_error\n",
    "\n",
    "# 1. Load the dataset\n",
    "df = pd.read_csv('Orig_kaggle_laptops.csv',encoding='ISO-8859-1')\n",
    "df.columns = df.columns.str.lower().str.replace(\" \", \"_\")\n",
    "strings = list(df.dtypes[df.dtypes == 'object'].index)\n",
    "for col in strings:\n",
    "    df[col] = df[col].str.lower().str.replace(\" \", \"_\")\n",
    "\n",
    "my_columns = ['ram','storage','screen','final_price']\n",
    "df = df[my_columns]\n",
    "# 2. Handle missing values by filling them with 0\n",
    "df = df.fillna(0)\n",
    "#df.column\n",
    "# 3. Split the data into features (X) and target (y)\n",
    "# Assuming the target is the 'price' column for this regression task\n",
    "X = df.drop('final_price', axis=1)  # Drop the target variable from the features\n",
    "y = df['final_price']  # Define the target variable\n",
    "\n",
    "# Split the data into training and testing sets with a seed of 9, in 80/20 ratio\n",
    "X_train, X_test, y_train, y_test = train_test_split(X, y, test_size=0.2, random_state=9)\n",
    "\n",
    "# 4. Train a linear regression model with regularization r=0.001\n",
    "def train_linear_regression_reg(X, y, r=0.001):\n",
    "    ones = np.ones(X.shape[0])\n",
    "    X = np.column_stack([ones, X])\n",
    "    \n",
    "    XTX = X.T.dot(X)\n",
    "    reg = r * np.eye(XTX.shape[0])\n",
    "    XTX = XTX + reg\n",
    "    \n",
    "    XTX_inv = np.linalg.inv(XTX)\n",
    "    w = XTX_inv.dot(X.T).dot(y)\n",
    "    \n",
    "    return w[0], w[1:]\n",
    "\n",
    "# Training the model on the training data\n",
    "w_0, w = train_linear_regression_reg(X_train.values, y_train.values, r=0.001)\n",
    "\n",
    "# 5. Predict on the test data\n",
    "X_test = np.column_stack([np.ones(X_test.shape[0]), X_test.values])\n",
    "y_pred = X_test.dot(np.concatenate([[w_0], w]))\n",
    "\n",
    "# 6. Calculate RMSE on the test data\n",
    "rmse = np.sqrt(mean_squared_error(y_test, y_pred))\n",
    "\n",
    "print(f'RMSE on the test dataset: {rmse:.2f}')\n"
   ]
  },
  {
   "cell_type": "markdown",
   "metadata": {},
   "source": [
    "0, 1459.18, 904.4100\n",
    " 1, 1155.93, 905.4700\n",
    " 2, 1382.78, 905.3700\n",
    " 3, 993.96, 904.6100\n",
    " 4, 1596.89, 908.7600\n",
    " 5, 1205.45, 907.2500\n",
    " 6, 1662.91, 908.1300\n",
    " 7, 1409.06, 909.4500\n",
    " 8, 1213.98, 905.4200\n",
    " 9, 1352.20, 905.4600"
   ]
  },
  {
   "cell_type": "code",
   "execution_count": 16,
   "metadata": {},
   "outputs": [],
   "source": [
    "rmse = [904.4100, 905.4700, 905.3700, 904.6100, 908.7600, 907.2500, 908.1300, 909.4500, 905.4200, 905.4600]\n",
    "np_rmse = np.array(rmse)"
   ]
  },
  {
   "cell_type": "code",
   "execution_count": 17,
   "metadata": {},
   "outputs": [
    {
     "data": {
      "text/plain": [
       "1.7178652450061456"
      ]
     },
     "execution_count": 17,
     "metadata": {},
     "output_type": "execute_result"
    }
   ],
   "source": [
    "np.std(np_rmse)"
   ]
  },
  {
   "cell_type": "code",
   "execution_count": null,
   "metadata": {},
   "outputs": [],
   "source": [
    "def train_linear_regression_reg(X, y, r=0.0):\n",
    "    ones = np.ones(X.shape[0])\n",
    "    X = np.column_stack([ones, X])\n",
    "    XTX = X.T.dot(X)\n",
    "    reg = r * np.eye(XTX.shape[0])  \n",
    "    XTX = XTX + reg\n",
    "    XTX_inv = np.linalg.inv(XTX)\n",
    "    w = XTX_inv.dot(X.T).dot(y)\n",
    "    return w[0], w[1:]  \n",
    "\n",
    "def rmse(y, y_pred):\n",
    "    error = y_pred - y\n",
    "    mse = (error ** 2).mean()\n",
    "    return np.round(np.sqrt(mse), 2)\n",
    "\n",
    "# Assuming df_train and df_val are already defined with relevant features and target variable\n",
    "X_train = df_train.drop(columns=['target_column']).fillna(0)  # Replace 'target_column' with the actual name of your target column\n",
    "y_train = df_train['target_column']  # Replace 'target_column' with the actual name of your target column\n",
    "df_val_filled_with_zeros = df_val.fillna(0).drop(columns=['target_column'])  # Prepare the validation set similarly\n",
    "\n",
    "for r in [0, 0.01, 0.1, 1, 5, 10, 100]:\n",
    "    w_0, w = train_linear_regression_reg(X_train, y_train, r=r)\n",
    "\n",
    "    y_pred_val_zeros = w_0 + df_val_filled_with_zeros.dot(w)\n",
    "    \n",
    "    print(f\"Regularization {r}: RMSE = {rmse(y_val, y_pred_val_zeros)}\")"
   ]
  }
 ],
 "metadata": {
  "kernelspec": {
   "display_name": "Python 3",
   "language": "python",
   "name": "python3"
  },
  "language_info": {
   "codemirror_mode": {
    "name": "ipython",
    "version": 3
   },
   "file_extension": ".py",
   "mimetype": "text/x-python",
   "name": "python",
   "nbconvert_exporter": "python",
   "pygments_lexer": "ipython3",
   "version": "3.7.6"
  }
 },
 "nbformat": 4,
 "nbformat_minor": 4
}
